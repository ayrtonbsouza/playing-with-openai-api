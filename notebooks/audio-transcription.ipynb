{
 "cells": [
  {
   "cell_type": "code",
   "execution_count": 10,
   "metadata": {},
   "outputs": [],
   "source": [
    "import openai\n",
    "from dotenv import find_dotenv, load_dotenv\n",
    "\n",
    "_ = load_dotenv(find_dotenv())\n",
    "\n",
    "client = openai.OpenAI()"
   ]
  },
  {
   "cell_type": "code",
   "execution_count": 11,
   "metadata": {},
   "outputs": [],
   "source": [
    "def transcribe_audio(audio_file, language='pt', response_format='text'):\n",
    "  with open(audio_file, 'rb') as file:\n",
    "    transcription = client.audio.transcriptions.create(\n",
    "      model='whisper-1',\n",
    "      language=language,\n",
    "      response_format=response_format,\n",
    "      file=file,\n",
    "    )\n",
    "  return transcription"
   ]
  },
  {
   "cell_type": "code",
   "execution_count": 12,
   "metadata": {},
   "outputs": [],
   "source": [
    "transcription = transcribe_audio('../data/audio.mp3')"
   ]
  },
  {
   "cell_type": "code",
   "execution_count": 13,
   "metadata": {},
   "outputs": [
    {
     "data": {
      "text/plain": [
       "'Bom dia, Helena. Como tem sido o trabalho remoto para você? Bom dia, Carlos. No geral, tem sido uma transição interessante. Mas confesso que sinto falta do ambiente do escritório e você. Compreendo. Para mim, a adaptação foi desafiadora no início, mas agora estou começando a apreciar os benefícios. Menos deslocamentos, mais flexibilidade são definitivamente pontos positivos. Concordo, mas às vezes sinto que a comunicação fica um pouco prejudicada. Não é a mesma coisa que discutir as coisas cara a cara. Sim, entendo. Estou tentando compensar isso com reuniões virtuais mais frequentes. Inclusive, acho que precisamos revisitar nossa estratégia de comunicação para garantir que todos estejam na mesma página. Boa ideia. Também tenho notado que, com o tempo, a fronteira entre vida profissional e pessoal está se tornando mais tênue. É um desafio separar os dois. Compreendo totalmente. Talvez seja útil estabelecer horários mais rígidos para o trabalho e garantir que todos respeitem esses limites. Além disso, estou pensando em promover atividades virtuais para manter a equipe conectada de maneira informal.\\n'"
      ]
     },
     "execution_count": 13,
     "metadata": {},
     "output_type": "execute_result"
    }
   ],
   "source": [
    "transcription"
   ]
  }
 ],
 "metadata": {
  "kernelspec": {
   "display_name": "venv",
   "language": "python",
   "name": "python3"
  },
  "language_info": {
   "codemirror_mode": {
    "name": "ipython",
    "version": 3
   },
   "file_extension": ".py",
   "mimetype": "text/x-python",
   "name": "python",
   "nbconvert_exporter": "python",
   "pygments_lexer": "ipython3",
   "version": "3.9.13"
  }
 },
 "nbformat": 4,
 "nbformat_minor": 2
}
